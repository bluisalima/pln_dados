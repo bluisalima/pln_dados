{
  "nbformat": 4,
  "nbformat_minor": 0,
  "metadata": {
    "colab": {
      "name": "Tarefa1-2.ipynb",
      "provenance": [],
      "collapsed_sections": [],
      "authorship_tag": "ABX9TyNHtcTgfajzdAGULgIotWjX",
      "include_colab_link": true
    },
    "kernelspec": {
      "name": "python3",
      "display_name": "Python 3"
    },
    "language_info": {
      "name": "python"
    }
  },
  "cells": [
    {
      "cell_type": "markdown",
      "metadata": {
        "id": "view-in-github",
        "colab_type": "text"
      },
      "source": [
        "<a href=\"https://colab.research.google.com/github/bluisalima/pln_dados/blob/main/Tarefa1_2.ipynb\" target=\"_parent\"><img src=\"https://colab.research.google.com/assets/colab-badge.svg\" alt=\"Open In Colab\"/></a>"
      ]
    },
    {
      "cell_type": "markdown",
      "metadata": {
        "id": "-y0RKiTKFjt-"
      },
      "source": [
        "# 1 - Armazenar o arquivo covid.csv no drive, realizar a leitura e armazenar ele em um dataframe"
      ]
    },
    {
      "cell_type": "code",
      "metadata": {
        "id": "QkVuNXJaErhE"
      },
      "source": [
        "from google.colab import drive\n",
        "import pandas as pd"
      ],
      "execution_count": null,
      "outputs": []
    },
    {
      "cell_type": "code",
      "metadata": {
        "id": "crj6j0kbFtjR"
      },
      "source": [
        "# Leitura do csv e armazenamento no dataframe\n",
        "url_dados = 'https://github.com/bluisalima/pln_dados/blob/main/covid19.csv?raw=true'\n",
        "\n",
        "df = pd.read_csv(url_dados, delimiter= ';', nrows = 400)"
      ],
      "execution_count": null,
      "outputs": []
    },
    {
      "cell_type": "code",
      "metadata": {
        "colab": {
          "base_uri": "https://localhost:8080/",
          "height": 424
        },
        "id": "5CqvvvVMRS99",
        "outputId": "cfda4fb0-f048-4305-911b-ff94c5d11966"
      },
      "source": [
        "df"
      ],
      "execution_count": null,
      "outputs": [
        {
          "output_type": "execute_result",
          "data": {
            "text/html": [
              "<div>\n",
              "<style scoped>\n",
              "    .dataframe tbody tr th:only-of-type {\n",
              "        vertical-align: middle;\n",
              "    }\n",
              "\n",
              "    .dataframe tbody tr th {\n",
              "        vertical-align: top;\n",
              "    }\n",
              "\n",
              "    .dataframe thead th {\n",
              "        text-align: right;\n",
              "    }\n",
              "</style>\n",
              "<table border=\"1\" class=\"dataframe\">\n",
              "  <thead>\n",
              "    <tr style=\"text-align: right;\">\n",
              "      <th></th>\n",
              "      <th>screen_name</th>\n",
              "      <th>location</th>\n",
              "      <th>created_at</th>\n",
              "      <th>text</th>\n",
              "    </tr>\n",
              "  </thead>\n",
              "  <tbody>\n",
              "    <tr>\n",
              "      <th>0</th>\n",
              "      <td>maxrendaonline</td>\n",
              "      <td>Brasil</td>\n",
              "      <td>2020-03-20 19:47:37</td>\n",
              "      <td>Exigimos que o FUNDO ELEITORAL vá para a Saúde...</td>\n",
              "    </tr>\n",
              "    <tr>\n",
              "      <th>1</th>\n",
              "      <td>amitaiJr</td>\n",
              "      <td>NaN</td>\n",
              "      <td>2020-03-20 19:47:37</td>\n",
              "      <td>RT @allantercalivre: Presidente @jairbolsonaro...</td>\n",
              "    </tr>\n",
              "    <tr>\n",
              "      <th>2</th>\n",
              "      <td>Duda_cardoso27</td>\n",
              "      <td>Santa Maria da Feira, Portugal</td>\n",
              "      <td>2020-03-20 19:47:37</td>\n",
              "      <td>RT @nunex_Scp: Então é assim, o meu pai está r...</td>\n",
              "    </tr>\n",
              "    <tr>\n",
              "      <th>3</th>\n",
              "      <td>liderdeninguem</td>\n",
              "      <td>NaN</td>\n",
              "      <td>2020-03-20 19:47:38</td>\n",
              "      <td>Vejam essa imagem do Guedes sendo enrabado no ...</td>\n",
              "    </tr>\n",
              "    <tr>\n",
              "      <th>4</th>\n",
              "      <td>Edualizando</td>\n",
              "      <td>São José dos Pinhais, Brasil</td>\n",
              "      <td>2020-03-20 19:47:38</td>\n",
              "      <td>RT @serpente_69: Enfermeiro fotografa impacto ...</td>\n",
              "    </tr>\n",
              "    <tr>\n",
              "      <th>...</th>\n",
              "      <td>...</td>\n",
              "      <td>...</td>\n",
              "      <td>...</td>\n",
              "      <td>...</td>\n",
              "    </tr>\n",
              "    <tr>\n",
              "      <th>395</th>\n",
              "      <td>elyerikarego</td>\n",
              "      <td>Sinop, Brasil</td>\n",
              "      <td>2020-03-20 19:50:36</td>\n",
              "      <td>Queridos amigos, nao morram fiquem em casa. Fa...</td>\n",
              "    </tr>\n",
              "    <tr>\n",
              "      <th>396</th>\n",
              "      <td>CidDireta</td>\n",
              "      <td>Rio de Janeiro, Brasil</td>\n",
              "      <td>2020-03-20 19:50:36</td>\n",
              "      <td>@profpaulamarisa Desgraçada ela e o Doriana 😡😡...</td>\n",
              "    </tr>\n",
              "    <tr>\n",
              "      <th>397</th>\n",
              "      <td>beth1207</td>\n",
              "      <td>Volta Redonda, Rio de Janeiro</td>\n",
              "      <td>2020-03-20 19:50:37</td>\n",
              "      <td>Como diferenciar os sintomas da covid-19 de um...</td>\n",
              "    </tr>\n",
              "    <tr>\n",
              "      <th>398</th>\n",
              "      <td>Apequena_caju</td>\n",
              "      <td>São Paulo, Brasil</td>\n",
              "      <td>2020-03-20 19:50:38</td>\n",
              "      <td>RT @guilhermelui_3c: Atenção: o coronavírus NÃ...</td>\n",
              "    </tr>\n",
              "    <tr>\n",
              "      <th>399</th>\n",
              "      <td>MoraesMucio</td>\n",
              "      <td>NaN</td>\n",
              "      <td>2020-03-20 19:50:39</td>\n",
              "      <td>RT @carlosjordy: A China escondeu o coronavíru...</td>\n",
              "    </tr>\n",
              "  </tbody>\n",
              "</table>\n",
              "<p>400 rows × 4 columns</p>\n",
              "</div>"
            ],
            "text/plain": [
              "        screen_name  ...                                               text\n",
              "0    maxrendaonline  ...  Exigimos que o FUNDO ELEITORAL vá para a Saúde...\n",
              "1          amitaiJr  ...  RT @allantercalivre: Presidente @jairbolsonaro...\n",
              "2    Duda_cardoso27  ...  RT @nunex_Scp: Então é assim, o meu pai está r...\n",
              "3    liderdeninguem  ...  Vejam essa imagem do Guedes sendo enrabado no ...\n",
              "4       Edualizando  ...  RT @serpente_69: Enfermeiro fotografa impacto ...\n",
              "..              ...  ...                                                ...\n",
              "395    elyerikarego  ...  Queridos amigos, nao morram fiquem em casa. Fa...\n",
              "396       CidDireta  ...  @profpaulamarisa Desgraçada ela e o Doriana 😡😡...\n",
              "397        beth1207  ...  Como diferenciar os sintomas da covid-19 de um...\n",
              "398   Apequena_caju  ...  RT @guilhermelui_3c: Atenção: o coronavírus NÃ...\n",
              "399     MoraesMucio  ...  RT @carlosjordy: A China escondeu o coronavíru...\n",
              "\n",
              "[400 rows x 4 columns]"
            ]
          },
          "metadata": {
            "tags": []
          },
          "execution_count": 3
        }
      ]
    },
    {
      "cell_type": "markdown",
      "metadata": {
        "id": "0sm3GDJBG1fJ"
      },
      "source": [
        "# 2 e 3 - Criar expressões regulares para remover RT, @(users), hashtags e stopwords\n",
        "\n"
      ]
    },
    {
      "cell_type": "code",
      "metadata": {
        "id": "l2z33LQ5F_Lw"
      },
      "source": [
        "# Baixando e instalando biblioteca spaCy\n",
        "!pip install spacy --upgrade "
      ],
      "execution_count": null,
      "outputs": []
    },
    {
      "cell_type": "code",
      "metadata": {
        "id": "fLJlygwPGl_n"
      },
      "source": [
        "# Baixando modulo em português\n",
        "!python -m spacy download pt"
      ],
      "execution_count": null,
      "outputs": []
    },
    {
      "cell_type": "code",
      "metadata": {
        "id": "dn4f5rlQGvdt"
      },
      "source": [
        "import re\n",
        "import spacy\n",
        "from spacy.lang.pt.stop_words import STOP_WORDS\n",
        "pln = spacy.load(\"pt_core_news_sm\")\n",
        "stop_words = spacy.lang.pt.stop_words.STOP_WORDS"
      ],
      "execution_count": null,
      "outputs": []
    },
    {
      "cell_type": "code",
      "metadata": {
        "id": "IVr5h_1lIKUG"
      },
      "source": [
        "# Adicionei a remoção de pontos e links para melhor visualização dos dados\n",
        "\n",
        "def tratamento_texto(texto):\n",
        "  # Hashtag\n",
        "  texto = re.sub(r\"#([A-Za-z0-9_]+)\", ' ', texto)\n",
        " \n",
        "  # RTS\n",
        "  texto = re.sub(r\"RT @([A-Za-z0-9_]+):\", ' ', texto)\n",
        "\n",
        "  # Users  \n",
        "  texto = re.sub(r\"@([A-Za-z0-9_]+)\", ' ', texto)\n",
        "\n",
        "  # URLs\n",
        "  texto = re.sub(r\"https?://[A-Za-z0-9_]+\", ' ', texto)\n",
        "\n",
        "  # Troca espaço em branco\n",
        "  texto = re.sub(r\" +\", ' ', texto)\n",
        "\n",
        "  # Removendo stopwords e pontuação\n",
        "  documento = pln(texto)\n",
        "  lista = []\n",
        "  for token in documento:\n",
        "    lista.append(token)\n",
        "\n",
        "  lista = [(palavra) for palavra in lista if palavra not in stop_words]\n",
        "  lista = ' '.join([str(elemento) for elemento in lista])\n",
        "\n",
        "  return lista"
      ],
      "execution_count": null,
      "outputs": []
    },
    {
      "cell_type": "code",
      "metadata": {
        "id": "GV6mus1JJHHr"
      },
      "source": [
        "# Tranformando coluna text em string\n",
        "df['text']= df['text'].apply(str)"
      ],
      "execution_count": null,
      "outputs": []
    },
    {
      "cell_type": "code",
      "metadata": {
        "id": "pVOx9OFoJXzN"
      },
      "source": [
        "# Tratando dados no dataframe menor (df)\n",
        "df['text'] = df['text'].apply(tratamento_texto)"
      ],
      "execution_count": null,
      "outputs": []
    },
    {
      "cell_type": "code",
      "metadata": {
        "id": "r6cjj_1kdCj0"
      },
      "source": [
        "# Remover pontuação\n",
        "pontuacao = '!\"#$%&()*+, -./:;<=>?@[\\]^_`{|}~'"
      ],
      "execution_count": null,
      "outputs": []
    },
    {
      "cell_type": "code",
      "metadata": {
        "colab": {
          "base_uri": "https://localhost:8080/",
          "height": 424
        },
        "id": "SbFwgkbpN-Oh",
        "outputId": "769f6ed3-30bc-4c22-d564-493dd8adb9f9"
      },
      "source": [
        "df"
      ],
      "execution_count": null,
      "outputs": [
        {
          "output_type": "execute_result",
          "data": {
            "text/html": [
              "<div>\n",
              "<style scoped>\n",
              "    .dataframe tbody tr th:only-of-type {\n",
              "        vertical-align: middle;\n",
              "    }\n",
              "\n",
              "    .dataframe tbody tr th {\n",
              "        vertical-align: top;\n",
              "    }\n",
              "\n",
              "    .dataframe thead th {\n",
              "        text-align: right;\n",
              "    }\n",
              "</style>\n",
              "<table border=\"1\" class=\"dataframe\">\n",
              "  <thead>\n",
              "    <tr style=\"text-align: right;\">\n",
              "      <th></th>\n",
              "      <th>screen_name</th>\n",
              "      <th>location</th>\n",
              "      <th>created_at</th>\n",
              "      <th>text</th>\n",
              "    </tr>\n",
              "  </thead>\n",
              "  <tbody>\n",
              "    <tr>\n",
              "      <th>0</th>\n",
              "      <td>maxrendaonline</td>\n",
              "      <td>Brasil</td>\n",
              "      <td>2020-03-20 19:47:37</td>\n",
              "      <td>Exigimos que o FUNDO ELEITORAL vá para a Saúde...</td>\n",
              "    </tr>\n",
              "    <tr>\n",
              "      <th>1</th>\n",
              "      <td>amitaiJr</td>\n",
              "      <td>NaN</td>\n",
              "      <td>2020-03-20 19:47:37</td>\n",
              "      <td>Presidente concedeu entrevista ao apresentad...</td>\n",
              "    </tr>\n",
              "    <tr>\n",
              "      <th>2</th>\n",
              "      <td>Duda_cardoso27</td>\n",
              "      <td>Santa Maria da Feira, Portugal</td>\n",
              "      <td>2020-03-20 19:47:37</td>\n",
              "      <td>Então é assim , o meu pai está retido nos Ca...</td>\n",
              "    </tr>\n",
              "    <tr>\n",
              "      <th>3</th>\n",
              "      <td>liderdeninguem</td>\n",
              "      <td>NaN</td>\n",
              "      <td>2020-03-20 19:47:38</td>\n",
              "      <td>Vejam essa imagem do Guedes sendo enrabado no ...</td>\n",
              "    </tr>\n",
              "    <tr>\n",
              "      <th>4</th>\n",
              "      <td>Edualizando</td>\n",
              "      <td>São José dos Pinhais, Brasil</td>\n",
              "      <td>2020-03-20 19:47:38</td>\n",
              "      <td>Enfermeiro fotografa impacto do coronavírus ...</td>\n",
              "    </tr>\n",
              "    <tr>\n",
              "      <th>...</th>\n",
              "      <td>...</td>\n",
              "      <td>...</td>\n",
              "      <td>...</td>\n",
              "      <td>...</td>\n",
              "    </tr>\n",
              "    <tr>\n",
              "      <th>395</th>\n",
              "      <td>elyerikarego</td>\n",
              "      <td>Sinop, Brasil</td>\n",
              "      <td>2020-03-20 19:50:36</td>\n",
              "      <td>Queridos amigos , nao morram fiquem em casa . ...</td>\n",
              "    </tr>\n",
              "    <tr>\n",
              "      <th>396</th>\n",
              "      <td>CidDireta</td>\n",
              "      <td>Rio de Janeiro, Brasil</td>\n",
              "      <td>2020-03-20 19:50:36</td>\n",
              "      <td>Desgraçada ela e o Doriana 😡 😡 😡 😡 😡</td>\n",
              "    </tr>\n",
              "    <tr>\n",
              "      <th>397</th>\n",
              "      <td>beth1207</td>\n",
              "      <td>Volta Redonda, Rio de Janeiro</td>\n",
              "      <td>2020-03-20 19:50:37</td>\n",
              "      <td>Como diferenciar os sintomas da covid-19 de um...</td>\n",
              "    </tr>\n",
              "    <tr>\n",
              "      <th>398</th>\n",
              "      <td>Apequena_caju</td>\n",
              "      <td>São Paulo, Brasil</td>\n",
              "      <td>2020-03-20 19:50:38</td>\n",
              "      <td>Atenção : o coronavírus NÃO é só uma gripe !...</td>\n",
              "    </tr>\n",
              "    <tr>\n",
              "      <th>399</th>\n",
              "      <td>MoraesMucio</td>\n",
              "      <td>NaN</td>\n",
              "      <td>2020-03-20 19:50:39</td>\n",
              "      <td>A China escondeu o coronavírus por 2 semanas...</td>\n",
              "    </tr>\n",
              "  </tbody>\n",
              "</table>\n",
              "<p>400 rows × 4 columns</p>\n",
              "</div>"
            ],
            "text/plain": [
              "        screen_name  ...                                               text\n",
              "0    maxrendaonline  ...  Exigimos que o FUNDO ELEITORAL vá para a Saúde...\n",
              "1          amitaiJr  ...    Presidente concedeu entrevista ao apresentad...\n",
              "2    Duda_cardoso27  ...    Então é assim , o meu pai está retido nos Ca...\n",
              "3    liderdeninguem  ...  Vejam essa imagem do Guedes sendo enrabado no ...\n",
              "4       Edualizando  ...    Enfermeiro fotografa impacto do coronavírus ...\n",
              "..              ...  ...                                                ...\n",
              "395    elyerikarego  ...  Queridos amigos , nao morram fiquem em casa . ...\n",
              "396       CidDireta  ...               Desgraçada ela e o Doriana 😡 😡 😡 😡 😡\n",
              "397        beth1207  ...  Como diferenciar os sintomas da covid-19 de um...\n",
              "398   Apequena_caju  ...    Atenção : o coronavírus NÃO é só uma gripe !...\n",
              "399     MoraesMucio  ...    A China escondeu o coronavírus por 2 semanas...\n",
              "\n",
              "[400 rows x 4 columns]"
            ]
          },
          "metadata": {
            "tags": []
          },
          "execution_count": 11
        }
      ]
    },
    {
      "cell_type": "code",
      "metadata": {
        "id": "rjAdO_63U3ka"
      },
      "source": [
        ""
      ],
      "execution_count": null,
      "outputs": []
    }
  ]
}